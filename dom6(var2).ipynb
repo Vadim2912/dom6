{
 "cells": [
  {
   "cell_type": "markdown",
   "metadata": {},
   "source": [
    "# Домашнее задание к лекции \"Регулярные выражения\"\n",
    "Для зачета необходимо выполнить 4 задания.  \n",
    "Для зачета с отличием – все."
   ]
  },
  {
   "cell_type": "markdown",
   "metadata": {},
   "source": [
    "## Задание 1"
   ]
  },
  {
   "cell_type": "markdown",
   "metadata": {},
   "source": [
    "Напишите функцию, которая принимает на вход строку и проверяет является ли она валидным транспортным номером. Если да, то функция должна возвращать отдельно номер и регион."
   ]
  },
  {
   "cell_type": "code",
   "execution_count": 1,
   "metadata": {},
   "outputs": [],
   "source": [
    "import re"
   ]
  },
  {
   "cell_type": "code",
   "execution_count": 2,
   "metadata": {},
   "outputs": [],
   "source": [
    "nomer = 'O345HB 178RUS'"
   ]
  },
  {
   "cell_type": "code",
   "execution_count": 3,
   "metadata": {},
   "outputs": [
    {
     "name": "stdout",
     "output_type": "stream",
     "text": [
      "[('О345НВ', '178', 'RUS')]\n"
     ]
    }
   ],
   "source": [
    "nomer = 'О345НВ 178RUS'\n",
    "\n",
    "def check_nomer_auto(plate):\n",
    "    \n",
    "    nomer_auto = r'([АВЕКМНОРСТУХавекмнорстух]\\d{3}[АВЕКМНОРСТУХавекмнорстух]{2})\\s(\\d{2,3})(RUS|rus)'\n",
    "    return re.findall(nomer_auto, nomer)\n",
    "print(check_nomer_auto(nomer))"
   ]
  },
  {
   "cell_type": "code",
   "execution_count": 4,
   "metadata": {},
   "outputs": [
    {
     "data": {
      "text/plain": [
       "['345', '178']"
      ]
     },
     "execution_count": 4,
     "metadata": {},
     "output_type": "execute_result"
    }
   ],
   "source": [
    "re.findall('\\d+', nomer)"
   ]
  },
  {
   "cell_type": "markdown",
   "metadata": {},
   "source": [
    "## Задание 2"
   ]
  },
  {
   "cell_type": "markdown",
   "metadata": {},
   "source": [
    "Напишите функцию, которая проверяет e-mail адрес на валидность по стандарту RFC822: http://www.w3.org/Protocols/rfc822/. Для этого постарайтесь написать (в крайнем случае найти) самый полный шаблон для проверки e-mail адресов через регулярное выражение. Разберитесь и напишите примеры, какие ваш шаблон может не охватить."
   ]
  },
  {
   "cell_type": "code",
   "execution_count": 25,
   "metadata": {},
   "outputs": [
    {
     "name": "stdout",
     "output_type": "stream",
     "text": [
      "['test_1+test2@corporate.gmail-apple.nn']\n"
     ]
    }
   ],
   "source": [
    "\n",
    "emails = 'test_1+test2@corporate.gmail-apple.nn ' \n",
    "\n",
    "def is_email(string):\n",
    "    pattern = r'[a-zA-Z0-9_.+-]+@[a-zA-Z0-9-]+\\.[a-zA-Z0-9-.]+'\n",
    "    return re.findall(pattern, string)\n",
    "\n",
    "print(is_email(emails))\n"
   ]
  },
  {
   "cell_type": "markdown",
   "metadata": {},
   "source": [
    "## Задание 3\n",
    "Напишите функцию, которая будет удалять все последовательные повторы слов из заданной строки."
   ]
  },
  {
   "cell_type": "code",
   "execution_count": 18,
   "metadata": {},
   "outputs": [
    {
     "name": "stdout",
     "output_type": "stream",
     "text": [
      "Напишите функцию, которая будет удалять все последовательные повторы слов из заданной строки\n"
     ]
    }
   ],
   "source": [
    "import re\n",
    "\n",
    "string = 'Напишите Напишите функцию функцию, которая будет удалять все все все все все последовательные повторы слов из заданной строки'\n",
    "\n",
    "def remove_duplicate_words(string):\n",
    "    duplicates_pattern = r'\\b(\\w+)(?:\\s+\\1\\b)+'\n",
    "    replace_pattern = r'\\1'\n",
    "    return re.sub(duplicates_pattern, replace_pattern, string)\n",
    "\n",
    "print(remove_duplicate_words(string))"
   ]
  },
  {
   "cell_type": "markdown",
   "metadata": {},
   "source": [
    "## Задание 4\n",
    "Напишите функцию, которая будет проверять номер сотового телефона на валидность, если он валиден, то переводить его в формат:   \n",
    "+7(xxx)-xxx-xx-xx  \n",
    "Постарайтесь предусмотреть как можно больше адекватных форматов изначального ввода номера.\n",
    "Примеры правильных и неправильных форматов:\n",
    "- +7 955 555-55-55;\n",
    "- 955555555;\n",
    "- 8(955)555-55-55;\n",
    "- +7 955 555 55 55;\n",
    "- 7(955) 555-55-55;\n",
    "- +7 955+555+55+55."
   ]
  },
  {
   "cell_type": "code",
   "execution_count": 17,
   "metadata": {},
   "outputs": [
    {
     "name": "stdout",
     "output_type": "stream",
     "text": [
      "955555555 \n",
      "8(955)555-55-55 +7(955)555-55-55\n",
      "+7 955 555 55 55 +7(955)555-55-55\n",
      "7(955) 555-55-55 +7(955)555-55-55\n",
      "+7 555+555+55+55 \n"
     ]
    }
   ],
   "source": [
    "phones = [\n",
    "    '955555555',\n",
    "    '8(955)555-55-55',\n",
    "    '+7 955 555 55 55',\n",
    "    '7(955) 555-55-55',\n",
    "    '+7 555+555+55+55'\n",
    "]\n",
    "\n",
    "def format_cellphone(phone):\n",
    "    pattern = r'^(\\+)*([78])*\\s*([\\(\\[])*(\\d{3})([\\)\\]])*\\s*(\\d{3})\\s*-*(\\d{2})\\s*-*(\\d{2})'\n",
    "    phone = re.search(pattern, phone)\n",
    "    if phone:\n",
    "        return '+7(' + str(phone.group(4)) + ')' + str(phone.group(6)) + '-' + str(phone.group(7)) + '-' + str(phone.group(8))\n",
    "    return ''\n",
    "    \n",
    "for phone in phones:\n",
    "    print(phone, format_cellphone(phone))"
   ]
  },
  {
   "cell_type": "code",
   "execution_count": null,
   "metadata": {},
   "outputs": [],
   "source": []
  }
 ],
 "metadata": {
  "kernelspec": {
   "display_name": "Python 3",
   "language": "python",
   "name": "python3"
  },
  "language_info": {
   "codemirror_mode": {
    "name": "ipython",
    "version": 3
   },
   "file_extension": ".py",
   "mimetype": "text/x-python",
   "name": "python",
   "nbconvert_exporter": "python",
   "pygments_lexer": "ipython3",
   "version": "3.7.3"
  }
 },
 "nbformat": 4,
 "nbformat_minor": 2
}
